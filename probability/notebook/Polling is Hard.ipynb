{
 "cells": [
  {
   "cell_type": "code",
   "execution_count": 21,
   "metadata": {
    "collapsed": false
   },
   "outputs": [
    {
     "name": "stdout",
     "output_type": "stream",
     "text": [
      "The autoreload extension is already loaded. To reload it, use:\n",
      "  %reload_ext autoreload\n"
     ]
    }
   ],
   "source": [
    "%matplotlib inline\n",
    "\n",
    "import os\n",
    "import numpy as np\n",
    "import pandas as pd\n",
    "from datetime import datetime, timedelta\n",
    "import os\n",
    "\n",
    "import matplotlib\n",
    "import matplotlib.pyplot as plt\n",
    "import seaborn as sns\n",
    "\n",
    "from IPython.display import display\n",
    "pd.options.display.max_columns=100\n",
    "\n",
    "plt.rcParams['figure.figsize'] = (9.0, 9.0)\n",
    "plt.rc('text', usetex=False)\n",
    "\n",
    "%load_ext autoreload\n",
    "%autoreload 2"
   ]
  },
  {
   "cell_type": "markdown",
   "metadata": {},
   "source": [
    "# Overview\n",
    "\n",
    "On November 8, the consensus among polls was that Sec. Hillary Clinton would win the presidency of the United States, with a final vote margin of 3% or 4%. She was projected to win by comfortable majorities in Michigan and Wisconsin, and to win by a smaller margin in Pennsylvania, which were dubbed her \"firewall\" against a Donald Trump win.\n",
    "\n",
    "Instead Clinton won the popular vote by a much smaller margin, between 0.2% to 1.5% (these votes are still being counted), and she lost Michigan, Wisconsin, and Pennsylvania by close margins.\n",
    "\n",
    "This left a major question -- how did almost all polls systematically miss in their predictions of the election day outcome? This demo is a simplified illustration of one of the major story lines in this polling miss: a systematic mis-prediction of the behavior of white working class voters."
   ]
  },
  {
   "cell_type": "markdown",
   "metadata": {},
   "source": [
    "# A Primer on the Presidential Election Process (Plus FAQ)\n",
    "\n",
    "## The Electoral College\n",
    "\n",
    "If you didn't grow up in the United States, here is a quick explanation of how the presidential election process works.\n",
    "\n",
    "On election day, individual votes are counted within voting regions that mostly correspond to states. There are 51 voting regions in the U.S.: 50 states, plus the capital city Washington D.C., and each of these regions has a certain number of **electoral votes**. These votes are assigned as follows: each region is given 3 votes automatically, with additional votes going to each region roughly in proportion to their populations. You can dive deeper into the technicalities [here](https://en.wikipedia.org/wiki/Electoral_College_%28United_States%29). With some exceptions, the candidate receiving the most votes within each region is awarded all of that region's electoral votes. In total, there are 538 electoral votes, so if a candidate receives at least 270 electoral votes, they win the election. (The following image is from the Wikipedia article.)\n",
    "\n",
    "![Image of 2016 EC](https://upload.wikimedia.org/wikipedia/commons/e/ec/ElectoralCollege2016.svg)\n",
    "\n",
    "Because of the indirectness of the electoral college, it is possible, as in this election, that the candidate winning the largest number of overall votes (called the \"popular vote\") does not win the most electoral votes. Thus, to predict the outcome of the presidential election, we need to predict how many votes each candidate will get in each state, rather than predicting total votes. In the rest of this demo, we will consider the problem of estimating the vote share for a particular candidate -- to predict the election, we would apply this method to each state and Washington, DC separately."
   ]
  },
  {
   "cell_type": "markdown",
   "metadata": {},
   "source": [
    "## Q: Do we even know what happened?\n",
    "\n",
    "In some ways, yes. The electoral majority winner is set. There are not enough votes left to be counted in states that matter for this outcome of the election to change.\n",
    "\n",
    "However, votes are still being counted in many places. In particular, Michigan is still too close to call. Votes from highly populous states like California and New York are still being counted, and because they lean heavily democratic, Hillary Clinton's popular vote lead is still rising. As of Nov 15, this lead has exceeded 1 million votes.\n",
    "\n",
    "Because votes are still being counted, the total turnout picture is still unclear. As of Nov 15, there were more votes cast in this election than any other besides 2008."
   ]
  },
  {
   "cell_type": "markdown",
   "metadata": {},
   "source": [
    "## Q: How can we find out who voted in which way?\n",
    "\n",
    "The secret ballot is a foundation of American democracy, so there is no way to know for sure who voted for whom. However, we can get clues.\n",
    "\n",
    "A popular, but non-scientific tool, is exit polling, where people volunteer to give information about their vote and their rationale. These are not useful for making precise estimates, but that can be interesting for understanding what sorts of opinions can be held by the same person simultaneously.\n",
    "\n",
    "Other non-scientific tools are organizing apps, e.g., Brigade.\n",
    "\n",
    "The most scientific method is **ecological inference**. This works by looking at the exact demographics of the people who voted, and the aggregate vote totals at the precinct level, which are available. By looking at many precincts together, we can try to reconstruct voting patterns based on certain demographic groups. Ecological inference is not certain, but it is the most scientific means we have (in that we can actually put bounds on the error that is made)."
   ]
  },
  {
   "cell_type": "markdown",
   "metadata": {},
   "source": [
    "# How Election Polling Works\n",
    "\n",
    "## Disclaimer\n",
    "\n",
    "All numbers past this point are **made up** and intended only for the purpose of demonstration. The intention is to match qualitatively what we saw among different groups this election, but they should not be given any weight in terms of understanding how people in the country *actually* voted.\n",
    "\n",
    "## Mechanics of an Election\n",
    "\n",
    "Model: there is a group of people; these people have different preferences and will make different decisions about whether to vote. On election day, we observed the sum of the preferences of people who decide to vote.\n",
    "\n",
    "<!--[[ Demo using red and blue squares in one bar, black and white squares underneath. Arrow showing red and blue squares passing through to bottom row of red, blue, and blanks. Average at the end. ]]-->\n"
   ]
  },
  {
   "cell_type": "markdown",
   "metadata": {},
   "source": [
    "## Population Setup\n",
    "\n",
    "If we want to understand this system, we need to understand these two unknown quantities.\n",
    "\n",
    "When we try to predict how people will vote, there are two unknown quantities:\n",
    "\n",
    " * The **preferences** of the people in the population who are registered to vote,\n",
    "<!--[[ Preference stripe ]]-->\n",
    " * The proportion of people who will turn out to vote, or **turnout** for short.\n",
    "<!--[[ Turnout stripe ]]-->\n",
    "\n",
    "We will think of these as unknown lists of numbers of 0's and 1's. Each list contains $N$ elements, each corresponding to a person in the population.\n",
    "\n",
    "We will write citizen preferences as a list $c$ (for \"candidate\"),  where $c_i = 1$ if person $i$ supports Hillary Clinton and $c_i = 0$ if they support Donald Trump. For simplicity in this exercise, we will assume that these were the only two choices.\n",
    "\n",
    "We will write citizens' decisions to vote as a list $t$ (for \"turnout\"), where $t_i = 1$ if person $i$ will turn out to vote, and $t_i = 0$ if they will not."
   ]
  },
  {
   "cell_type": "markdown",
   "metadata": {},
   "source": [
    "The following code generates a population of one million people where different subgroups of the population have different average candidate preferences and average likelihood to turn out."
   ]
  },
  {
   "cell_type": "code",
   "execution_count": 2,
   "metadata": {
    "collapsed": false
   },
   "outputs": [],
   "source": [
    "# Total population size\n",
    "N = 1e6\n",
    "\n",
    "# Names of demographic groups\n",
    "demos = ['min_hi', 'min_low', 'white_hi', 'white_low']\n",
    "\n",
    "# Proportion of the population made up by each demographic group\n",
    "size_props = pd.Series({'min_hi': 0.13, 'min_low': 0.13, 'white_hi': 0.24, 'white_low': 0.50})\n",
    "\n",
    "# Candidate preference probabilities in each demographic group\n",
    "cand_probs = pd.Series({'min_hi': 0.8, 'min_low': 0.8, 'white_hi': 0.45, 'white_low': 0.3})\n",
    "\n",
    "# Two possible turnout probabilities for each demographic group\n",
    "# (Made up) estimated probabilities from historical turnout\n",
    "turn_probs1 = pd.Series({'min_hi' : 0.6, 'min_low': 0.55, 'white_hi': 0.45, 'white_low': 0.3})\n",
    "# (Made up) actual turnout probabilities\n",
    "turn_probs2 = pd.Series({'min_hi' : 0.6, 'min_low': 0.55, 'white_hi': 0.45, 'white_low': 0.4})\n",
    "\n",
    "# Generate candidate preference, and two turnout scenarios for each demographic\n",
    "pop_comp = {}\n",
    "for k in demos:\n",
    "    pop_comp[k] = {}\n",
    "    pop_comp[k]['c'] = np.random.binomial(1, cand_probs.loc[k], size=int(N*size_props.loc[k]))\n",
    "    pop_comp[k]['t'] = np.random.binomial(1, turn_probs1.loc[k], size=int(N*size_props.loc[k]))\n",
    "    pop_comp[k]['t2'] = np.random.binomial(1, turn_probs2.loc[k], size=int(N*size_props.loc[k]))\n",
    "    \n",
    "# Build full population from demographic groups\n",
    "# Demographic label for each \"person\" in the population.\n",
    "sub_label = np.repeat(demos, (size_props * N).astype(int))\n",
    "\n",
    "# Candidate preference list.\n",
    "clist = np.concatenate([pop_comp[k]['c'] for k in demos])\n",
    "\n",
    "# Turnout under \"historical turnout\" scenario\n",
    "tlist1 = np.concatenate([pop_comp[k]['t'] for k in demos])\n",
    "# Turnout under \"observed\" scenario\n",
    "tlist2 = np.concatenate([pop_comp[k]['t2'] for k in demos])\n",
    "\n",
    "# Total votes for candidate under \"historical turnout\" scenario\n",
    "wlist1 = np.concatenate([pop_comp[k]['c']*pop_comp[k]['t'] for k in demos])\n",
    "# Total vaotes for candidate under \"observed\" scenario\n",
    "wlist2 = np.concatenate([pop_comp[k]['c']*pop_comp[k]['t2'] for k in demos])"
   ]
  },
  {
   "cell_type": "markdown",
   "metadata": {},
   "source": [
    "From this, we can compute the vote share for the candidate of interest under the two turnout scenarios. Candidate preferences under both of these scenarios are the same, but turnout is different. If these ideas aren't clear yet, they will be once you've read through the rest of the notebook."
   ]
  },
  {
   "cell_type": "code",
   "execution_count": 3,
   "metadata": {
    "collapsed": false
   },
   "outputs": [
    {
     "name": "stdout",
     "output_type": "stream",
     "text": [
      "Vote share under historical model of turnout: 0.524361078201\n",
      "Vote share under actual turnout: 0.498697643521\n"
     ]
    }
   ],
   "source": [
    "print \"Vote share under historical model of turnout: %s\" % (float(sum(wlist1))/sum(tlist1))\n",
    "print \"Vote share under actual turnout: %s\" % (float(sum(wlist2))/sum(tlist2))"
   ]
  },
  {
   "cell_type": "markdown",
   "metadata": {},
   "source": [
    "## Estimating Preferences with Random Sampling (Compulsory Voting Case)\n",
    "\n",
    "### Estimation target: population candidate preference\n",
    "\n",
    "Consider how polling would work if there were **compulsory voting** among all registered voters. The problem of predicting the election result would be equivalent to estimating candidate preference among all registered voters.\n",
    "\n",
    "We will write the vote share for a particular candidate using the letter $w$. **In a world with compulsory voting**, Clinton's vote share would be equal to the mean voter preferance for her:\n",
    "\n",
    "$$\n",
    "\\mu_c = \\frac{1}{N} \\sum_{i=1}^N c_i,\n",
    "$$\n",
    "\n",
    "or a straightforward average of the candidate preference list.\n",
    "\n",
    "### Estimation\n",
    "\n",
    "A simple way to estimate this is to take a random sample of $n$ people from the population, and take a sample average. As discussed in class, we can represent such a sample as a collection of random variables $C_1, \\cdots, C_n$, whose joint distribution is determined by the sampling scheme we decide to use.\n",
    "\n",
    "We can write each sample member $C_j$, in terms of a set of **selection indicators** $I_{ij}$, defined as\n",
    "\n",
    "$$\n",
    "I_{ij} = \\left\\{ \\begin{array}[l] 1 \\textrm{ if person }i\\textrm{ is selected to be the }j\\textrm{th sample member}\\\\\n",
    "                               0 \\textrm{ otherwise.} \\end{array}\\right.\n",
    "$$\n",
    "\n",
    "Under this representation,\n",
    "\n",
    "$$\n",
    "C_j = \\sum_{i=1}^N I_{ij} c_i,\n",
    "$$\n",
    "\n",
    "where for all of the indicators $I_{1j}, I_{2j}, \\cdots, I{Nj}$, only one of $I_{ij}$ is not zero, and $P(I_{ij} = 1) = \\frac{1}{N}$ for each $I_{ij}$. Thus, the expectation of each $C_j$ is the population mean candidate preference:\n",
    "\n",
    "$$\n",
    "E(C_j) = \\sum_{i=1}^N E(I_{ij}) c_i = \\frac{1}{N} \\sum_{i=1}^N c_i = \\mu_c.\n",
    "$$\n",
    "\n",
    "Thus, a reasonable estimate of $\\mu_c$, is the sample average of our sample $C_1, \\cdots, C_n$, which we will call $\\hat c$:\n",
    "\n",
    "$$\n",
    "\\hat c = \\frac{1}{n}\\sum_{j=1}^n C_j.\n",
    "$$\n",
    "\n",
    "Note that, in expectation, $\\hat c$ is yields the true population preference, $\\mu_c$\n",
    "\n",
    "$$\n",
    "E(\\hat c) = \\frac{1}{n} \\sum_{j=1}^n E(C_j) = \\frac{1}{n} \\sum_{j=1}^n \\mu_c = \\mu_c.\n",
    "$$\n",
    "\n",
    "The variance of $\\hat c$ has the form\n",
    "\n",
    "$$\n",
    "Var(\\hat c) = \\frac{1}{n^2} \\sum_{j=1}^n Var(C_j) + 2\\sum_{j=1}^n\\sum_{\\{k: k < j\\}} Cov(C_j, C_k).\n",
    "$$\n",
    "\n",
    "The $Cov$ terms in the above expression quantify how different elements of the sample tend to deviate simultaneously from their mean (we'll discuss this later when we talk about correlation). These terms are zero if each sample member $C_j$ in the sample is independent of all other memebers (for example, if sampling were done *with replacement*). These tersm are negative if the sample members $C_j$ are negatively correlated -- that is, if seeing a large value of $C_j$ in the sample would imply that the other samples would tend to be smaller (for example, if sampling were done *without replacement*). Usually polls are done *without replacement*, so we will use the variance from the independent case as an **upper bound** for the variance of the standard polling estimator.\n",
    "\n",
    "Writing the standard deviation of the population candidate preferences, $SD(c)$ as $\\sigma_c$:\n",
    "\n",
    "$$\n",
    "Var(\\hat c) \\leq \\frac{1}{n^2} \\sum_{j=1}^n Var(C_j) = \\frac{1}{n^2} \\sum_{j=1}^n \\sigma^2_c = \\frac{\\sigma^2_c}{n}.\n",
    "$$\n",
    "\n",
    "Thus, we can conservatively approximate the standard deviation of $\\hat c$, often called the **standard error** as\n",
    "\n",
    "$$\n",
    "SD(\\hat c) \\approx \\frac{\\sigma_C}{\\sqrt{n}}.\n",
    "$$"
   ]
  },
  {
   "cell_type": "markdown",
   "metadata": {},
   "source": [
    "# Demo of compulsory voting case\n",
    "\n",
    "Below, we simulate 1000 polls taken from our fixed population of voters. In each poll, 1000 people are sampled without replacement from the population. Under the compulsory voting scheme, all voters will vote according to their preference, we we only need to record candidate preferences for each sampled individual.\n",
    "\n",
    "We examine the performance of the sample mean estimate $\\hat c$ for estimating $\\mu_c$ and compare it to theory."
   ]
  },
  {
   "cell_type": "code",
   "execution_count": 4,
   "metadata": {
    "collapsed": true
   },
   "outputs": [],
   "source": [
    "# Number of simulations to run.\n",
    "M = 1000\n",
    "# Sample size.\n",
    "n = 1000.\n",
    "compuls_v = np.zeros(M)\n",
    "for i in np.arange(M):\n",
    "    # Draw selection indicators.\n",
    "    selection = np.random.choice(np.arange(clist.size), size=int(n), replace=True)\n",
    "    # Select votes from candidate preference.\n",
    "    votes = clist[selection]\n",
    "    # Compute vote share.\n",
    "    compuls_v[i] = np.mean(votes)"
   ]
  },
  {
   "cell_type": "markdown",
   "metadata": {},
   "source": [
    "The histogram below shows a vertical blue line at the population mean preference $\\mu_c$, and vertical red lines $\\mu_c \\pm 2 \\frac{\\sigma_c}{\\sqrt n}$.\n",
    "\n",
    "By Chebyshev's inequality, we would expect no more than $25\\%$ of realized values of $\\hat c$ to fall outside of this range. By the tighter Central Limit Theorem, we would expect approximately $5\\%$ of realized values of $\\hat c$ to fall outside of this range."
   ]
  },
  {
   "cell_type": "code",
   "execution_count": 20,
   "metadata": {
    "collapsed": false,
    "scrolled": false
   },
   "outputs": [
    {
     "data": {
      "image/png": "[encoded data removed]",
      "text/plain": [
       "<matplotlib.figure.Figure at 0x11af9b990>"
      ]
     },
     "metadata": {},
     "output_type": "display_data"
    },
    {
     "name": "stdout",
     "output_type": "stream",
     "text": [
      "Percentage of samples outside of range: 0.048000\n"
     ]
    }
   ],
   "source": [
    "sns.distplot(compuls_v, kde=False, norm_hist=True)\n",
    "plt.axvline(np.mean(clist))\n",
    "\n",
    "upper = np.mean(clist) + 2*np.std(clist)/np.sqrt(n)\n",
    "lower = np.mean(clist) - 2*np.std(clist)/np.sqrt(n)\n",
    "plt.axvline(upper, c='red')\n",
    "plt.axvline(lower, c='red')\n",
    "plt.show()\n",
    "\n",
    "print \"Percentage of samples outside of range: %f\"%(np.mean((compuls_v > upper) | (compuls_v < lower)))"
   ]
  },
  {
   "cell_type": "markdown",
   "metadata": {},
   "source": [
    "The lenght between the red lines is about 6 percentage points across, which is a pretty standard margin of error (3 points) for a public opinion poll."
   ]
  },
  {
   "cell_type": "markdown",
   "metadata": {},
   "source": [
    "## Preferences Plus Turnout (Non-Compulsory Voting Case)\n",
    "\n",
    "\n",
    "### Estimation target: population candidate vote share\n",
    "\n",
    "For many reasons, real elections are more complicated. In this section, we consider the complication that voting is not compulsory, so we need to estimate not only which individuals support each candidate, but also which individuals will turn out ot vote. This is where the population list $t$ comes in.\n",
    "\n",
    "In this more complicated setting will write vote totals using the letter $w$. In this notation, the total number of voters is\n",
    "\n",
    "$$\n",
    "\\mu_w^{tot} = \\sum_{i=1}^n t_i,\n",
    "$$\n",
    "\n",
    "and the total number of votes for Clinton is\n",
    "\n",
    "$$\n",
    "\\mu_w = \\sum_{i=1}^N t_i c_i.\n",
    "$$\n",
    "\n",
    "\n",
    "We will write vote shares, or ratio of total voters supporting a particular candidate, using the letter $v$. In our notation, the population vote share for Clinton is\n",
    "\n",
    "\\begin{align}\n",
    "\\mu_v &= \\frac{\\mu_w}{\\mu_w^{tot}}\\\\\n",
    "  &= \\frac{\\sum_{i=1}^N t_i c_i}{\\sum_{i=1}^N t_i}\\\\\n",
    "  %&= \\sum_{i=1}^N \\frac{t_i}{\\sum_{i=1}^N t_i} c_i\\\\\n",
    "  %&= p_t^{Clinton} \\cdot 1 + (1-p_t^{Clinton}) \\cdot 0\n",
    "\\end{align}\n",
    "\n",
    "<!-- In this representation, the final vote share for a candidate is the **turnout-weighted average** of overall candidate preferences. -->\n",
    "\n",
    "Note that this reduces to $\\mu_c$ if every registered voter turns out, or $t_i = 1$ for each $i$ in $1, \\cdots, N$.\n",
    "\n",
    "### Estimation\n",
    "\n",
    "Similarly to what we did for estimating population candidate preference, we can estimate population vote share by taking a sample of people from the population, observing their candidate preference and turnout status, and computing a sample vote share.\n",
    "\n",
    "As in the previous example, let $C_1, \\cdots, C_n$ be the candidate preferences of $n$ people randomly sampled from the population, and let $T_1, \\cdots, T_n$ be the turnout status of those same $n$ randomly sampled people. We can compute\n",
    "\n",
    "$$\\hat v = \\frac{\\sum_{j=1}^n T_j C_j}{\\sum_{j=1}^n T_j},$$\n",
    "\n",
    "and use this as an estimate of the population vote share $\\mu_v$.\n",
    "\n",
    "Computing the expectation and variance of $\\hat v$ is tricky and beyond what we've discussed in the course. This is because it involves the quotient of two sums that are related to each other. Suffice it to say that the behavior of this estimator is well understood, and that its expectation is close, but not exactly equal to, $\\mu_v$.\n",
    "\n",
    "For now we'll use simulation to understand how this estimate works."
   ]
  },
  {
   "cell_type": "markdown",
   "metadata": {},
   "source": [
    "### Demo of Non-Compulsory Voting Case\n",
    "\n",
    "Below we simulate 1000 polls taken from our fixed population of voters. Each poll randomly samples 1000 people from the population without replacement, measures their candidate preference and turnout status, and computes $\\hat v$ from that sample."
   ]
  },
  {
   "cell_type": "code",
   "execution_count": 6,
   "metadata": {
    "collapsed": false
   },
   "outputs": [],
   "source": [
    "M = 1000\n",
    "samp_turnout_v = np.zeros(M)\n",
    "for i in np.arange(M):\n",
    "    selection = np.random.choice(np.arange(wlist2.size), size=int(n), replace=True)\n",
    "    turnout = tlist2[selection]\n",
    "    votes = wlist2[selection]\n",
    "    samp_turnout_v[i] = float(sum(votes)) / sum(turnout)       "
   ]
  },
  {
   "cell_type": "markdown",
   "metadata": {},
   "source": [
    "Below we plot the distribution of $\\hat v$ across repeated samples. The blue line is the population vote share for the candidate, $\\mu_v$ under the true turnout scheme (not the one estimated from historical data)."
   ]
  },
  {
   "cell_type": "code",
   "execution_count": 7,
   "metadata": {
    "collapsed": false,
    "scrolled": false
   },
   "outputs": [
    {
     "data": {
      "text/plain": [
       "<matplotlib.lines.Line2D at 0x11972f610>"
      ]
     },
     "execution_count": 7,
     "metadata": {},
     "output_type": "execute_result"
    },
    {
     "data": {
      "image/png": "[encoded data removed]",
      "text/plain": [
       "<matplotlib.figure.Figure at 0x113eb5f90>"
      ]
     },
     "metadata": {},
     "output_type": "display_data"
    }
   ],
   "source": [
    "sns.distplot(samp_turnout_v, kde=False, norm_hist=True)\n",
    "plt.axvline(float(np.sum(wlist2)) / np.sum(tlist2))\n",
    "plt.axvline(np.percentile(samp_turnout_v, 2.5), c='red')\n",
    "plt.axvline(np.percentile(samp_turnout_v, 97.5), c='red')"
   ]
  },
  {
   "cell_type": "markdown",
   "metadata": {},
   "source": [
    "Note that once we include turnout, we have a much noisier estimate because we are not sure how many people will turn out to vote -- the interval containing 95% of our realizations of $\\hat v$ is about 9 percentage points across -- and this is under the best case scenario where, among sampled people, we are able to get a good measurement of their decision to vote."
   ]
  },
  {
   "cell_type": "markdown",
   "metadata": {},
   "source": [
    "### Problems with Measuring Turnout"
   ]
  },
  {
   "cell_type": "markdown",
   "metadata": {},
   "source": [
    "In reality, **self-reported vote likelihood is a poor measure of actual turnout**, so estimating turnout is very difficult and this sort of approach is not directly feasible.\n",
    "\n",
    "There are several reasons for this difficulty:\n",
    "\n",
    " * People may lie about their likelihood to vote because they fear being judged by the pollster.\n",
    " * People are often willing to commit to responsibilities in the future without considering the cost of fulfilling that responsibility.\n",
    " * The people who answer political polls are more likely to be civically engaged and will not be representative of the population turnout picture.\n",
    " * More recently, with new voting regulations, many people who intend to vote are not allowed to.\n",
    " \n",
    "This is a hurdle that could make most polling estimates dead on arrival because vote share requires that we be able to estimate each person's candidate preference and turnout status simultaneously. To deal with this issue, pollsters use a fundamental survey samplign technique called stratification."
   ]
  },
  {
   "cell_type": "markdown",
   "metadata": {},
   "source": [
    "## Stratification\n",
    "\n",
    "### The Importance of Correlation\n",
    "\n",
    "We can circumvent difficulties of needing to measure each person's simultaneous candidate preference and turnout status if **vote turnout and candidate preference are unrelated**.\n",
    "\n",
    "By definition, if $c$ and $t$ are **uncorrelated**, by using the computational form of the covariance we know\n",
    "\n",
    "\\begin{align}\n",
    "\\frac{1}{N} \\sum_{i=1}^N c_i t_i - \\mu_c \\mu_t = 0.\n",
    "\\end{align}\n",
    "\n",
    "If this is true, then\n",
    "\n",
    "\\begin{align}\n",
    "\\frac{1}{N} \\sum_{i=1}^N c_i t_i &= \\mu_c \\mu_t\\\\\\\\\n",
    "\\frac{\\frac{1}{N} \\sum_{i=1}^N c_i t_i}{\\mu_t} &= \\mu_c\\\\\\\\\n",
    "\\frac{\\frac{1}{N} \\sum_{i=1}^N c_i t_i}{\\frac{1}{N} \\sum_{i=1}^N t_i} &= \\mu_c\\\\\\\\\n",
    "\\mu_v = \\mu_c\n",
    "\\end{align}\n",
    "\n",
    "This is to say that if $c$ and $t$ are uncorrelated, then the vote share for a candidate is equal to the population preference for that candidate, so we can get away with estimating $\\mu_c$ in place of estimating $\\mu_v$.\n",
    "\n",
    "Of course, this is not usually the case in a voting population. Most of the time, probability of turning out varies among different groups of people and aligns with political preferences. However, if we are able to identify groups of people who are relatively homogeneous *within their group*, then this assumption becomes more plausible within that group. We call these groups that we divide the population into **strata** (plural of **stratum**)."
   ]
  },
  {
   "cell_type": "markdown",
   "metadata": {},
   "source": [
    "### Running Example: Race/Income Strata\n",
    "\n",
    "**Disclaimer**: *This part of the example paints with very broad strokes a number of very complex political and social issues. It is meant to motivate our computational example, and not meant to be taken as an especially accurate or precise statement on recent political history in the U.S.*\n",
    "\n",
    "In this example, we will consider four population strata, determined by the interaction two factors: income level and minority status. By this breakdown, there are four groups:\n",
    " * Low-income white,\n",
    " * High-income white,\n",
    " * Low-income minority, and\n",
    " * High-income minority.\n",
    "\n",
    "I chose these strata so that our example can be comparable to the to the \"white working class\" story that many poll watchers are seeing. For example, see [this article](http://www.nytimes.com/2016/11/10/upshot/why-trump-won-working-class-whites.html) from the New York Times' Nate Cohn.\n",
    "\n",
    "Broadly speaking, the Democratic party has historically strong support from both minority groups who also generally have strong turnout because \"getting out the vote\" is a major part of Democratic campaign strategy.\n",
    "\n",
    "Republicans tend to get strong support but lower turnout among high-income white voters.\n",
    "\n",
    "For the last couple of decades, the low-income white demographic has sided with the Democratic party. However, in this election, this group sided very strongly with the Republicans, and turned out in unprecedented numbers.\n",
    "\n",
    "In our made up population, these trends look like the following figure:"
   ]
  },
  {
   "cell_type": "code",
   "execution_count": null,
   "metadata": {
    "collapsed": false,
    "scrolled": false
   },
   "outputs": [],
   "source": [
    "plt.scatter(cand_probs, turn_probs2, s=size_props*10000, c=\"lightblue\")\n",
    "for k,v in cand_probs.iteritems():\n",
    "    plt.annotate(k, xy=(cand_probs[k], turn_probs2[k]), fontsize=14, color='#333333')\n",
    "plt.ylim([0,1])\n",
    "plt.xlim([0,1])\n",
    "plt.title(\"Preference and Turnout Proportions (Actual)\", fontsize=14)\n",
    "plt.xlabel(\"Candidate Preference (Clinton)\", fontsize=14)\n",
    "plt.ylabel(\"Turnout Proportion\", fontsize=14)\n",
    "plt.show()"
   ]
  },
  {
   "cell_type": "markdown",
   "metadata": {},
   "source": [
    "Based on these general trends, voter preference and turnout are quite correlated if we look at the population as a whole."
   ]
  },
  {
   "cell_type": "markdown",
   "metadata": {},
   "source": [
    "### Stratifying to Decorrelate\n",
    "\n",
    "In the population at large, turnout is likely to be correlated with candidate preference. However, among people who have similar experiences and hold similar views, these correlations can be weaker. As mentioned earlier, a key method in polling is to divide the population into **strata**, or groups of people whose behavior is believed to be relatively homogeneous.\n",
    "\n",
    "In our running example, if we pulled a person from the general population, and saw that they supported Clinton, we would be able to say that they are more likely to be from a minority group because there is stronger support for Clinton from that group. From that conclusion, we could further say that the voter is more likely that the average voter to turn out and vote.\n",
    "\n",
    "However, if we pulled a person from a particular stratum and saw that they were supporting Clinton, we would already know their minority and income status, so this would give use less new information about their propensity to vote.\n",
    "\n",
    "In particular, we hope that within these strata, **turnout and vote preference are uncorrelated**."
   ]
  },
  {
   "cell_type": "markdown",
   "metadata": {},
   "source": [
    "### Decomposition into Weights and Preferences\n",
    "\n",
    "Based on the assumption that candidate preference and turnout are uncorrelated within sample, we can decompose total vote share into a **weighted average** of within-stratum candidate preference.\n",
    "\n",
    "If we divide the population into $K$ strata, we can define the following three sets of quantities:\n",
    "\n",
    " * $w_k^{(d)}$: A stratum weight, indicating the proportion of registered voters who fall into this stratum.\n",
    " * $w_k^{(t)}$: A turnout weight, indicating the proportion of registered voters in this stratum who wil turn out to vote.\n",
    " * $p_k^{(c)}$: Proportion of people in the stratum who prefer the candidate.\n",
    "\n",
    "Using this notation, we can break down the population vote share as follows:\n",
    "\n",
    "$$\n",
    "\\mu_v = \\sum_{k=1}^K w_k^{(d)} w_k^{(t)} p_k^{(c)},\n",
    "$$\n",
    "\n",
    "where, across all strata,\n",
    "$$\n",
    "\\sum_{k=1}^K w_k^{(d)} w_k^{(t)} = 1.\n",
    "$$\n",
    "\n",
    "Intuitively, each stratum's candidate preference $p_k^{(c)}$ will be given a weight proportional to the number of people from that stratum who will ultimately cast votes. The key gain from stratification here is that we can look at each stratum's candidate preference proportion in aggregate, rather than having to know what the turnout status and candidate preference is for each person in the stratum."
   ]
  },
  {
   "cell_type": "markdown",
   "metadata": {},
   "source": [
    "### Estimation\n",
    "\n",
    "We estimate $p_k^{(c)}$ by sampling people from within each stratum -- **if the decorrelated assumption holds**, this will give a good estimate of the vote preference among people in this stratum who will vote.\n",
    "\n",
    "We set the other quantities using external information:\n",
    " * $w_k^{(d)}$ is usually set using census and voter registration data, which are generally very accurate, and\n",
    " * $w_k^{(t)}$ is usually set based on historical turnout data, informed in small part by polling response. This is less reliable.\n",
    " \n",
    "Putting this all together, we estimate vote share as follows:\n",
    "\n",
    " 1. Stratify the population into $K$ homogeneous groups.\n",
    " 1. Compute stratum weights $w_k^{(d)}$ and turnout weights $w_k^{(t)}$ for each stratum $k$.\n",
    " 1. Within each stratum, sample $n_k$ people and ask their vote preference.\n",
    " 1. From each stratum sample, compute: the stratum mean preference\n",
    " \n",
    "     $$\\hat c_k = \\frac{1}{n_k} \\sum_{i=1}^{n_k} c_i$$\n",
    "     \n",
    " 1. Combine these components into the final estimate of vote share\n",
    "\n",
    "    $$\n",
    "    \\hat v = \\sum_{k=1}^K w_k^{(d)} w_k^{(t)} \\hat c_k\n",
    "    $$"
   ]
  },
  {
   "cell_type": "markdown",
   "metadata": {},
   "source": [
    "## Demo of Stratified Estimation\n",
    "\n",
    "In this demo, we will compute estimates of population vote share $\\mu_v$ using the stratification method described above. We will run 1000 simulations, where in each simulation 250 people will be sampled from each of our four strata without replacement (yielding 1000 samples total). We will then combine this with **accurate** stratum and turnout weights."
   ]
  },
  {
   "cell_type": "markdown",
   "metadata": {},
   "source": [
    "First, here are the ingredients that go into the weights that will be used:"
   ]
  },
  {
   "cell_type": "code",
   "execution_count": 9,
   "metadata": {
    "collapsed": false
   },
   "outputs": [
    {
     "data": {
      "text/plain": [
       "min_hi       0.13\n",
       "min_low      0.13\n",
       "white_hi     0.24\n",
       "white_low    0.50\n",
       "dtype: float64"
      ]
     },
     "execution_count": 9,
     "metadata": {},
     "output_type": "execute_result"
    }
   ],
   "source": [
    "# Stratum weights\n",
    "size_props"
   ]
  },
  {
   "cell_type": "code",
   "execution_count": 10,
   "metadata": {
    "collapsed": false,
    "scrolled": true
   },
   "outputs": [
    {
     "data": {
      "text/plain": [
       "min_hi       0.60\n",
       "min_low      0.55\n",
       "white_hi     0.45\n",
       "white_low    0.40\n",
       "dtype: float64"
      ]
     },
     "execution_count": 10,
     "metadata": {},
     "output_type": "execute_result"
    }
   ],
   "source": [
    "# Turnout weights\n",
    "turn_probs2"
   ]
  },
  {
   "cell_type": "markdown",
   "metadata": {},
   "source": [
    "From these, we compute the normalized weights (remember, they need to sum to 1)."
   ]
  },
  {
   "cell_type": "code",
   "execution_count": 11,
   "metadata": {
    "collapsed": false
   },
   "outputs": [
    {
     "data": {
      "text/plain": [
       "min_hi       0.170492\n",
       "min_low      0.156284\n",
       "white_hi     0.236066\n",
       "white_low    0.437158\n",
       "dtype: float64"
      ]
     },
     "execution_count": 11,
     "metadata": {},
     "output_type": "execute_result"
    }
   ],
   "source": [
    "# Computing normalized weights\n",
    "weights = (size_props * turn_probs2)\n",
    "weights = weights / sum(weights)\n",
    "weights"
   ]
  },
  {
   "cell_type": "markdown",
   "metadata": {},
   "source": [
    "These weights indicate that we expect, for example, 17% of people who actually cast votes to be from the high-income minority group.\n",
    "\n",
    "As a reminder, this is the picture of the voting public that these weights represent."
   ]
  },
  {
   "cell_type": "code",
   "execution_count": 12,
   "metadata": {
    "collapsed": false,
    "scrolled": false
   },
   "outputs": [
    {
     "data": {
      "image/png": "[encoded data removed]",
      "text/plain": [
       "<matplotlib.figure.Figure at 0x119920510>"
      ]
     },
     "metadata": {},
     "output_type": "display_data"
    }
   ],
   "source": [
    "plt.scatter(cand_probs, turn_probs2, s=size_props*10000, c=\"lightblue\")\n",
    "for k,v in cand_probs.iteritems():\n",
    "    plt.annotate(k, xy=(cand_probs[k], turn_probs2[k]), fontsize=14, color='#333333')\n",
    "plt.ylim([0,1])\n",
    "plt.xlim([0,1])\n",
    "plt.title(\"Preference and Turnout Proportions (Actual)\", fontsize=14)\n",
    "plt.xlabel(\"Candidate Preference (Clinton)\", fontsize=14)\n",
    "plt.ylabel(\"Turnout Proportion\", fontsize=14)\n",
    "plt.show()"
   ]
  },
  {
   "cell_type": "code",
   "execution_count": 13,
   "metadata": {
    "collapsed": false,
    "scrolled": true
   },
   "outputs": [],
   "source": [
    "# Run the simulation\n",
    "M = 1000\n",
    "strata_idxs = [np.argwhere(sub_label==d).flatten() for d in demos]\n",
    "true_turnout_v = np.zeros(M)\n",
    "for i in np.arange(M):\n",
    "    start = 0\n",
    "    prefmeans = np.zeros(4)\n",
    "    for k in np.arange(4):\n",
    "        selection = np.random.choice(strata_idxs[k], size=int(n / 4), replace=True)\n",
    "        start += int(size_props.iloc[k]*N)\n",
    "        # Sample voter preferences\n",
    "        prefs = clist[selection]\n",
    "        prefmeans[k] = np.mean(prefs)\n",
    "    true_turnout_v[i] = np.sum(weights * prefmeans)"
   ]
  },
  {
   "cell_type": "markdown",
   "metadata": {},
   "source": [
    "The distribution of estimated vote share is summarlized in the following histogram. It is centered at the truth and looks a lot like our idealized vote share histogram in the last section."
   ]
  },
  {
   "cell_type": "code",
   "execution_count": 14,
   "metadata": {
    "collapsed": false,
    "scrolled": false
   },
   "outputs": [
    {
     "data": {
      "image/png": "[encoded data removed]",
      "text/plain": [
       "<matplotlib.figure.Figure at 0x11997fcd0>"
      ]
     },
     "metadata": {},
     "output_type": "display_data"
    }
   ],
   "source": [
    "sns.distplot(true_turnout_v, kde=False, norm_hist=True)\n",
    "plt.axvline(float(np.sum(wlist2)) / np.sum(tlist2))\n",
    "# plt.axvline(np.percentile(true_turnout_v, 2.5), c='red')\n",
    "# plt.axvline(np.percentile(true_turnout_v, 97.5), c='red')\n",
    "plt.show()"
   ]
  },
  {
   "cell_type": "markdown",
   "metadata": {},
   "source": [
    "## Difficulties with Weighting\n",
    "\n",
    "The primary difficulty with this stratified approach is that the turnout weights $w_k^{(t)}$ are difficult to estimate well. Because we rely on historical information to compute them, if the dynamics of the current election are very different from previous ones, then the weights can be off by a large margin.\n",
    "\n",
    "In this demo, we will show how this can happen.\n",
    "\n",
    "Suppose that our estimated turnout and actual turnout do not match. In particular, suppose that estimated turnout strongly underestimates the turnout from one particular group (here, working class white voters)."
   ]
  },
  {
   "cell_type": "code",
   "execution_count": 15,
   "metadata": {
    "collapsed": false,
    "scrolled": true
   },
   "outputs": [
    {
     "data": {
      "text/html": [
       "<div>\n",
       "<table border=\"1\" class=\"dataframe\">\n",
       "  <thead>\n",
       "    <tr style=\"text-align: right;\">\n",
       "      <th></th>\n",
       "      <th>actual</th>\n",
       "      <th>estimated</th>\n",
       "    </tr>\n",
       "  </thead>\n",
       "  <tbody>\n",
       "    <tr>\n",
       "      <th>min_hi</th>\n",
       "      <td>0.60</td>\n",
       "      <td>0.60</td>\n",
       "    </tr>\n",
       "    <tr>\n",
       "      <th>min_low</th>\n",
       "      <td>0.55</td>\n",
       "      <td>0.55</td>\n",
       "    </tr>\n",
       "    <tr>\n",
       "      <th>white_hi</th>\n",
       "      <td>0.45</td>\n",
       "      <td>0.45</td>\n",
       "    </tr>\n",
       "    <tr>\n",
       "      <th>white_low</th>\n",
       "      <td>0.40</td>\n",
       "      <td>0.30</td>\n",
       "    </tr>\n",
       "  </tbody>\n",
       "</table>\n",
       "</div>"
      ],
      "text/plain": [
       "           actual  estimated\n",
       "min_hi       0.60       0.60\n",
       "min_low      0.55       0.55\n",
       "white_hi     0.45       0.45\n",
       "white_low    0.40       0.30"
      ]
     },
     "execution_count": 15,
     "metadata": {},
     "output_type": "execute_result"
    }
   ],
   "source": [
    "# Estimated turnout probabilities, based on historical turnout\n",
    "pd.DataFrame({'estimated': turn_probs1, 'actual': turn_probs2})"
   ]
  },
  {
   "cell_type": "markdown",
   "metadata": {},
   "source": [
    "The estimated turnout probabilities are consistent with this picture of the voting public."
   ]
  },
  {
   "cell_type": "code",
   "execution_count": 16,
   "metadata": {
    "collapsed": false
   },
   "outputs": [
    {
     "data": {
      "image/png": "[encoded data removed]",
      "text/plain": [
       "<matplotlib.figure.Figure at 0x11a2e7bd0>"
      ]
     },
     "metadata": {},
     "output_type": "display_data"
    }
   ],
   "source": [
    "plt.scatter(cand_probs, turn_probs1, s=size_props*10000, c=\"lightblue\")\n",
    "for k,v in cand_probs.iteritems():\n",
    "    plt.annotate(k, xy=(cand_probs[k], turn_probs1[k]), fontsize=14)\n",
    "plt.ylim([0,1])\n",
    "plt.xlim([0,1])\n",
    "plt.title(\"Preference and Turnout Proportions (Predicted)\", fontsize=14)\n",
    "plt.xlabel(\"Candidate Preference (Clinton)\", fontsize=14)\n",
    "plt.ylabel(\"Turnout Proportion\", fontsize=14)\n",
    "plt.show()"
   ]
  },
  {
   "cell_type": "markdown",
   "metadata": {},
   "source": [
    "### Simulation using historical turnout weights\n",
    "\n",
    "In this section, we rerun the simulation of using the stratified estimation method, but this time we use the weights estimated from historical turnout.\n",
    "\n",
    "Compare the estimated and actual weights that result:"
   ]
  },
  {
   "cell_type": "code",
   "execution_count": 17,
   "metadata": {
    "collapsed": false
   },
   "outputs": [
    {
     "data": {
      "text/html": [
       "<div>\n",
       "<table border=\"1\" class=\"dataframe\">\n",
       "  <thead>\n",
       "    <tr style=\"text-align: right;\">\n",
       "      <th></th>\n",
       "      <th>actual</th>\n",
       "      <th>estimated</th>\n",
       "    </tr>\n",
       "  </thead>\n",
       "  <tbody>\n",
       "    <tr>\n",
       "      <th>min_hi</th>\n",
       "      <td>0.170492</td>\n",
       "      <td>0.191411</td>\n",
       "    </tr>\n",
       "    <tr>\n",
       "      <th>min_low</th>\n",
       "      <td>0.156284</td>\n",
       "      <td>0.175460</td>\n",
       "    </tr>\n",
       "    <tr>\n",
       "      <th>white_hi</th>\n",
       "      <td>0.236066</td>\n",
       "      <td>0.265031</td>\n",
       "    </tr>\n",
       "    <tr>\n",
       "      <th>white_low</th>\n",
       "      <td>0.437158</td>\n",
       "      <td>0.368098</td>\n",
       "    </tr>\n",
       "  </tbody>\n",
       "</table>\n",
       "</div>"
      ],
      "text/plain": [
       "             actual  estimated\n",
       "min_hi     0.170492   0.191411\n",
       "min_low    0.156284   0.175460\n",
       "white_hi   0.236066   0.265031\n",
       "white_low  0.437158   0.368098"
      ]
     },
     "execution_count": 17,
     "metadata": {},
     "output_type": "execute_result"
    }
   ],
   "source": [
    "# Simulation using true weights\n",
    "est_weights = (size_props * turn_probs1)\n",
    "est_weights = est_weights / sum(est_weights)\n",
    "pd.DataFrame({'estimated': est_weights, 'actual': weights})"
   ]
  },
  {
   "cell_type": "code",
   "execution_count": 18,
   "metadata": {
    "collapsed": false
   },
   "outputs": [],
   "source": [
    "M = 1000\n",
    "bad_turnout_v = np.zeros(M)\n",
    "strata_idxs = [np.argwhere(sub_label==d).flatten() for d in demos]\n",
    "for i in np.arange(M):\n",
    "    prefmeans = np.zeros(4)\n",
    "    for k in np.arange(4):\n",
    "        # Randomly select people within stratum\n",
    "        selection = np.random.choice(strata_idxs[k], size=int(n / 4), replace=True)\n",
    "        # Sample voter preferences\n",
    "        prefs = clist[selection]\n",
    "        prefmeans[k] = np.mean(prefs)\n",
    "    bad_turnout_v[i] = np.sum(est_weights * prefmeans)"
   ]
  },
  {
   "cell_type": "markdown",
   "metadata": {},
   "source": [
    "The following histogram shows the distribution of polling results using this methodology, compared to the true population vote share (blue) and the vote share that would have resulted if the estimated turnout proportions had been accurate (red). Clearly, if the wrong turnout weights are used, the poll is estimating the wrong quantity, and systematically misses the true vote share."
   ]
  },
  {
   "cell_type": "code",
   "execution_count": 22,
   "metadata": {
    "collapsed": false,
    "scrolled": false
   },
   "outputs": [
    {
     "name": "stdout",
     "output_type": "stream",
     "text": [
      "Truth is green line, estimate using true turnout distributed according to green histogram.\n",
      "Bad target is blue, estimate using historical turnout distributed according to blue histogram.\n"
     ]
    },
    {
     "data": {
      "image/png": "[encoded data removed]",
      "text/plain": [
       "<matplotlib.figure.Figure at 0x11afa3b10>"
      ]
     },
     "metadata": {},
     "output_type": "display_data"
    }
   ],
   "source": [
    "# Plot histogram for estimates using historical turnout numbers\n",
    "sns.distplot(bad_turnout_v, kde=False, norm_hist=True)\n",
    "# Plot histogram for estimates using actual turnout numbers\n",
    "sns.distplot(true_turnout_v, kde=False, norm_hist=True)\n",
    "\n",
    "plt.axvline(float(np.sum(wlist2)) / np.sum(tlist2), c='green')\n",
    "plt.axvline(float(np.sum(wlist1)) / np.sum(tlist1))\n",
    "\n",
    "print \"Truth is green line, estimate using true turnout distributed according to green histogram.\"\n",
    "print \"Bad target is blue, estimate using historical turnout distributed according to blue histogram.\""
   ]
  },
  {
   "cell_type": "markdown",
   "metadata": {},
   "source": [
    "# Conclusion"
   ]
  },
  {
   "cell_type": "markdown",
   "metadata": {},
   "source": [
    "In very simple terms, this is a major reason that polls failed to paint an accurate picture of Hillary Clinton's vote share. There were fundamental assumptions that were wrong and could not be corrected by the collected data. These sorts of errors occur in every election cycle -- it happens that in this case the error was aligned in a way that the estimates and the actual vote share ended up on different sides of 50%."
   ]
  },
  {
   "cell_type": "markdown",
   "metadata": {},
   "source": [
    "<!-- ## Biases\n",
    "\n",
    "So far, we have considered polling where we are able to make perfect measurements of each sampled person. In reality, this can break down in several ways; for example, these are some examples of how data can become contaminated:\n",
    "\n",
    " * **Non-response**: Many voters are unwilling to talk to a pollster, or are unreachable (e.g., they don't have a landline).\n",
    " * **\"Shy voter\"**: Some voters may be embarrassed to admit their choice.\n",
    " * **Turnout reporting**: Many voters do not give a reliable indication of whether they actually will vote\n",
    " \n",
    "If there is a systematic relationship between vote preference and one of these contaminants, then they introduce a **bias** and the polling estimates will be systematically inaccurate, no matter how large the sample is.\n",
    "\n",
    "This is in contrast to chance variation, which becomes smaller and smaller the more people you poll, according to the square root law. -->"
   ]
  }
 ],
 "metadata": {
  "kernelspec": {
   "display_name": "Python 2",
   "language": "python",
   "name": "python2"
  },
  "language_info": {
   "codemirror_mode": {
    "name": "ipython",
    "version": 2
   },
   "file_extension": ".py",
   "mimetype": "text/x-python",
   "name": "python",
   "nbconvert_exporter": "python",
   "pygments_lexer": "ipython2",
   "version": "2.7.10"
  }
 },
 "nbformat": 4,
 "nbformat_minor": 0
}
